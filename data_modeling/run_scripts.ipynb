{
 "cells": [
  {
   "cell_type": "code",
   "execution_count": 1,
   "metadata": {},
   "outputs": [
    {
     "name": "stdout",
     "output_type": "stream",
     "text": [
      "DROP TABLE IF EXISTS songplays;\n",
      "DROP TABLE IF EXISTS users;\n",
      "DROP TABLE IF EXISTS songs;\n",
      "DROP TABLE IF EXISTS artists;\n",
      "DROP TABLE IF EXISTS time;\n"
     ]
    }
   ],
   "source": [
    "!python create_tables.py"
   ]
  },
  {
   "cell_type": "code",
   "execution_count": 2,
   "metadata": {},
   "outputs": [
    {
     "name": "stdout",
     "output_type": "stream",
     "text": [
      "73 files found in data/song_data\n",
      "1/73 files processed.\n",
      "2/73 files processed.\n",
      "3/73 files processed.\n",
      "4/73 files processed.\n",
      "5/73 files processed.\n",
      "6/73 files processed.\n",
      "7/73 files processed.\n",
      "8/73 files processed.\n",
      "9/73 files processed.\n",
      "10/73 files processed.\n",
      "11/73 files processed.\n",
      "12/73 files processed.\n",
      "13/73 files processed.\n",
      "14/73 files processed.\n",
      "15/73 files processed.\n",
      "16/73 files processed.\n",
      "17/73 files processed.\n",
      "18/73 files processed.\n",
      "19/73 files processed.\n",
      "20/73 files processed.\n",
      "21/73 files processed.\n",
      "22/73 files processed.\n",
      "23/73 files processed.\n",
      "24/73 files processed.\n",
      "25/73 files processed.\n",
      "26/73 files processed.\n",
      "27/73 files processed.\n",
      "28/73 files processed.\n",
      "29/73 files processed.\n",
      "30/73 files processed.\n",
      "31/73 files processed.\n",
      "32/73 files processed.\n",
      "33/73 files processed.\n",
      "34/73 files processed.\n",
      "35/73 files processed.\n",
      "36/73 files processed.\n",
      "37/73 files processed.\n",
      "38/73 files processed.\n",
      "39/73 files processed.\n",
      "40/73 files processed.\n",
      "41/73 files processed.\n",
      "42/73 files processed.\n",
      "43/73 files processed.\n",
      "44/73 files processed.\n",
      "45/73 files processed.\n",
      "46/73 files processed.\n",
      "47/73 files processed.\n",
      "48/73 files processed.\n",
      "49/73 files processed.\n",
      "50/73 files processed.\n",
      "51/73 files processed.\n",
      "52/73 files processed.\n",
      "53/73 files processed.\n",
      "54/73 files processed.\n",
      "55/73 files processed.\n",
      "56/73 files processed.\n",
      "57/73 files processed.\n",
      "58/73 files processed.\n",
      "59/73 files processed.\n",
      "60/73 files processed.\n",
      "61/73 files processed.\n",
      "62/73 files processed.\n",
      "63/73 files processed.\n",
      "64/73 files processed.\n",
      "65/73 files processed.\n",
      "66/73 files processed.\n",
      "67/73 files processed.\n",
      "68/73 files processed.\n",
      "69/73 files processed.\n",
      "70/73 files processed.\n",
      "71/73 files processed.\n",
      "72/73 files processed.\n",
      "73/73 files processed.\n",
      "31 files found in data/log_data\n",
      "1/31 files processed.\n",
      "2/31 files processed.\n",
      "3/31 files processed.\n",
      "4/31 files processed.\n",
      "5/31 files processed.\n",
      "6/31 files processed.\n",
      "7/31 files processed.\n",
      "8/31 files processed.\n",
      "9/31 files processed.\n",
      "10/31 files processed.\n",
      "11/31 files processed.\n",
      "12/31 files processed.\n",
      "13/31 files processed.\n",
      "14/31 files processed.\n",
      "15/31 files processed.\n",
      "16/31 files processed.\n",
      "17/31 files processed.\n",
      "18/31 files processed.\n",
      "19/31 files processed.\n",
      "20/31 files processed.\n",
      "21/31 files processed.\n",
      "22/31 files processed.\n",
      "23/31 files processed.\n",
      "24/31 files processed.\n",
      "25/31 files processed.\n",
      "26/31 files processed.\n",
      "27/31 files processed.\n",
      "28/31 files processed.\n",
      "29/31 files processed.\n",
      "30/31 files processed.\n",
      "31/31 files processed.\n"
     ]
    }
   ],
   "source": [
    "!python etl.py"
   ]
  },
  {
   "cell_type": "code",
   "execution_count": null,
   "metadata": {},
   "outputs": [],
   "source": []
  }
 ],
 "metadata": {
  "kernelspec": {
   "display_name": "Python 3",
   "language": "python",
   "name": "python3"
  },
  "language_info": {
   "codemirror_mode": {
    "name": "ipython",
    "version": 3
   },
   "file_extension": ".py",
   "mimetype": "text/x-python",
   "name": "python",
   "nbconvert_exporter": "python",
   "pygments_lexer": "ipython3",
   "version": "3.6.3"
  }
 },
 "nbformat": 4,
 "nbformat_minor": 2
}
