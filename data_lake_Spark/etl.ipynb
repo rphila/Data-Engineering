{
 "cells": [
  {
   "cell_type": "code",
   "execution_count": 1,
   "metadata": {},
   "outputs": [],
   "source": [
    "from pyspark.sql import SparkSession\n",
    "\n",
    "def create_spark_session():\n",
    "    spark = SparkSession \\\n",
    "        .builder \\\n",
    "        .config(\"spark.jars.packages\", \"org.apache.hadoop:hadoop-aws:2.7.0\") \\\n",
    "        .getOrCreate()\n",
    "    return spark\n",
    "\n",
    "import os\n",
    "import configparser\n",
    "\n",
    "config = configparser.ConfigParser()\n",
    "config.read('dl.cfg')\n",
    "\n",
    "os.environ['AWS_ACCESS_KEY_ID']=config['AWS']['AWS_ACCESS_KEY_ID'] #.get('AWS', 'AWS_ACCESS_KEY_ID')\n",
    "os.environ['AWS_SECRET_ACCESS_KEY']=config['AWS']['AWS_SECRET_ACCESS_KEY'] #.get('AWS', 'AWS_SECRET_ACCESS_KEY')\n",
    "\n",
    "spark = create_spark_session()\n",
    "input_data = \"s3a://udacity-dend/\"\n"
   ]
  },
  {
   "cell_type": "code",
   "execution_count": 2,
   "metadata": {},
   "outputs": [
    {
     "name": "stdout",
     "output_type": "stream",
     "text": [
      "s3a://udacity-dend/song_data/A/*/*/*.json\n"
     ]
    }
   ],
   "source": [
    "# get filepath to song data file\n",
    "song_data = os.path.join(input_data, \"song_data/A/*/*/*.json\")\n",
    "print(song_data)\n",
    "\n"
   ]
  },
  {
   "cell_type": "code",
   "execution_count": 2,
   "metadata": {},
   "outputs": [
    {
     "name": "stdout",
     "output_type": "stream",
     "text": [
      "1\n",
      "root\n",
      " |-- artist_id: string (nullable = true)\n",
      " |-- artist_latitude: string (nullable = true)\n",
      " |-- artist_location: string (nullable = true)\n",
      " |-- artist_longitude: string (nullable = true)\n",
      " |-- artist_name: string (nullable = true)\n",
      " |-- duration: double (nullable = true)\n",
      " |-- num_songs: long (nullable = true)\n",
      " |-- song_id: string (nullable = true)\n",
      " |-- title: string (nullable = true)\n",
      " |-- year: long (nullable = true)\n",
      "\n"
     ]
    }
   ],
   "source": [
    "# read song data file\n",
    "song_data = os.path.join(input_data, \"song_data/A/A/A/TRAAAAK128F9318786.json\")\n",
    "#song_data = os.path.join(input_data, \"song_data/A/A/A/*.json\")\n",
    "df = spark.read.json(song_data)\n",
    "print(df.count())\n",
    "df.printSchema()"
   ]
  },
  {
   "cell_type": "code",
   "execution_count": 3,
   "metadata": {},
   "outputs": [
    {
     "name": "stdout",
     "output_type": "stream",
     "text": [
      "+------------------+---------------+---------------+----------------+------------+--------+---------+------------------+------+----+\n",
      "|         artist_id|artist_latitude|artist_location|artist_longitude| artist_name|duration|num_songs|           song_id| title|year|\n",
      "+------------------+---------------+---------------+----------------+------------+--------+---------+------------------+------+----+\n",
      "|ARJNIUY12298900C91|           null|               |            null|Adelitas Way|213.9424|        1|SOBLFFE12AF72AA5BA|Scream|2009|\n",
      "+------------------+---------------+---------------+----------------+------------+--------+---------+------------------+------+----+\n",
      "\n"
     ]
    }
   ],
   "source": [
    "df.limit(5).show()\n"
   ]
  },
  {
   "cell_type": "code",
   "execution_count": 3,
   "metadata": {},
   "outputs": [],
   "source": [
    "output_data = \"s3a://test-rp/\"\n",
    "\n",
    "# extract columns to create songs table\n",
    "songs_table = df['song_id', 'title', 'artist_id', 'year', 'duration']\n",
    "    \n",
    "# write songs table to parquet files partitioned by year and artist\n",
    "songs_table.write.partitionBy('year', 'artist_id').parquet(os.path.join(output_data, 'songs.parquet'), 'overwrite')\n",
    "\n",
    "# extract columns to create artists table\n",
    "artists_table = df['artist_id', 'artist_name', 'artist_location', 'artist_latitude', 'artist_longitude']\n",
    "    \n",
    "# write artists table to parquet files\n",
    "artists_table.write.parquet(os.path.join(output_data, 'artists.parquet'), 'overwrite')"
   ]
  },
  {
   "cell_type": "code",
   "execution_count": 4,
   "metadata": {},
   "outputs": [
    {
     "name": "stdout",
     "output_type": "stream",
     "text": [
      "+------------------+------+--------+\n",
      "|           song_id| title|duration|\n",
      "+------------------+------+--------+\n",
      "|SOBLFFE12AF72AA5BA|Scream|213.9424|\n",
      "+------------------+------+--------+\n",
      "\n",
      "+------------------+------------+---------------+---------------+----------------+\n",
      "|         artist_id| artist_name|artist_location|artist_latitude|artist_longitude|\n",
      "+------------------+------------+---------------+---------------+----------------+\n",
      "|ARJNIUY12298900C91|Adelitas Way|               |           null|            null|\n",
      "+------------------+------------+---------------+---------------+----------------+\n",
      "\n"
     ]
    }
   ],
   "source": [
    "pf = spark.read.parquet(\"songs.parquet/*/*/*.parquet\")\n",
    "pf2 = spark.read.parquet(\"artists.parquet/*.parquet\")\n",
    "\n",
    "pf.limit(5).show()\n",
    "pf2.limit(5).show()"
   ]
  },
  {
   "cell_type": "code",
   "execution_count": 22,
   "metadata": {},
   "outputs": [
    {
     "data": {
      "text/html": [
       "<div>\n",
       "<style scoped>\n",
       "    .dataframe tbody tr th:only-of-type {\n",
       "        vertical-align: middle;\n",
       "    }\n",
       "\n",
       "    .dataframe tbody tr th {\n",
       "        vertical-align: top;\n",
       "    }\n",
       "\n",
       "    .dataframe thead th {\n",
       "        text-align: right;\n",
       "    }\n",
       "</style>\n",
       "<table border=\"1\" class=\"dataframe\">\n",
       "  <thead>\n",
       "    <tr style=\"text-align: right;\">\n",
       "      <th></th>\n",
       "      <th>artist</th>\n",
       "      <th>auth</th>\n",
       "      <th>firstName</th>\n",
       "      <th>gender</th>\n",
       "      <th>itemInSession</th>\n",
       "      <th>lastName</th>\n",
       "      <th>length</th>\n",
       "      <th>level</th>\n",
       "      <th>location</th>\n",
       "      <th>method</th>\n",
       "      <th>page</th>\n",
       "      <th>registration</th>\n",
       "      <th>sessionId</th>\n",
       "      <th>song</th>\n",
       "      <th>status</th>\n",
       "      <th>ts</th>\n",
       "      <th>userAgent</th>\n",
       "      <th>userId</th>\n",
       "    </tr>\n",
       "  </thead>\n",
       "  <tbody>\n",
       "    <tr>\n",
       "      <th>0</th>\n",
       "      <td>Harmonia</td>\n",
       "      <td>Logged In</td>\n",
       "      <td>Ryan</td>\n",
       "      <td>M</td>\n",
       "      <td>0</td>\n",
       "      <td>Smith</td>\n",
       "      <td>655.77751</td>\n",
       "      <td>free</td>\n",
       "      <td>San Jose-Sunnyvale-Santa Clara, CA</td>\n",
       "      <td>PUT</td>\n",
       "      <td>NextSong</td>\n",
       "      <td>1.541017e+12</td>\n",
       "      <td>583</td>\n",
       "      <td>Sehr kosmisch</td>\n",
       "      <td>200</td>\n",
       "      <td>1542241826796</td>\n",
       "      <td>\"Mozilla/5.0 (X11; Linux x86_64) AppleWebKit/537.36 (KHTML, like Gecko) Ubuntu Chromium/36.0.1985.125 Chrome/36.0.1985.125 Safari/537.36\"</td>\n",
       "      <td>26</td>\n",
       "    </tr>\n",
       "    <tr>\n",
       "      <th>1</th>\n",
       "      <td>The Prodigy</td>\n",
       "      <td>Logged In</td>\n",
       "      <td>Ryan</td>\n",
       "      <td>M</td>\n",
       "      <td>1</td>\n",
       "      <td>Smith</td>\n",
       "      <td>260.07465</td>\n",
       "      <td>free</td>\n",
       "      <td>San Jose-Sunnyvale-Santa Clara, CA</td>\n",
       "      <td>PUT</td>\n",
       "      <td>NextSong</td>\n",
       "      <td>1.541017e+12</td>\n",
       "      <td>583</td>\n",
       "      <td>The Big Gundown</td>\n",
       "      <td>200</td>\n",
       "      <td>1542242481796</td>\n",
       "      <td>\"Mozilla/5.0 (X11; Linux x86_64) AppleWebKit/537.36 (KHTML, like Gecko) Ubuntu Chromium/36.0.1985.125 Chrome/36.0.1985.125 Safari/537.36\"</td>\n",
       "      <td>26</td>\n",
       "    </tr>\n",
       "    <tr>\n",
       "      <th>2</th>\n",
       "      <td>Train</td>\n",
       "      <td>Logged In</td>\n",
       "      <td>Ryan</td>\n",
       "      <td>M</td>\n",
       "      <td>2</td>\n",
       "      <td>Smith</td>\n",
       "      <td>205.45261</td>\n",
       "      <td>free</td>\n",
       "      <td>San Jose-Sunnyvale-Santa Clara, CA</td>\n",
       "      <td>PUT</td>\n",
       "      <td>NextSong</td>\n",
       "      <td>1.541017e+12</td>\n",
       "      <td>583</td>\n",
       "      <td>Marry Me</td>\n",
       "      <td>200</td>\n",
       "      <td>1542242741796</td>\n",
       "      <td>\"Mozilla/5.0 (X11; Linux x86_64) AppleWebKit/537.36 (KHTML, like Gecko) Ubuntu Chromium/36.0.1985.125 Chrome/36.0.1985.125 Safari/537.36\"</td>\n",
       "      <td>26</td>\n",
       "    </tr>\n",
       "    <tr>\n",
       "      <th>3</th>\n",
       "      <td>None</td>\n",
       "      <td>Logged In</td>\n",
       "      <td>Wyatt</td>\n",
       "      <td>M</td>\n",
       "      <td>0</td>\n",
       "      <td>Scott</td>\n",
       "      <td>NaN</td>\n",
       "      <td>free</td>\n",
       "      <td>Eureka-Arcata-Fortuna, CA</td>\n",
       "      <td>GET</td>\n",
       "      <td>Home</td>\n",
       "      <td>1.540872e+12</td>\n",
       "      <td>563</td>\n",
       "      <td>None</td>\n",
       "      <td>200</td>\n",
       "      <td>1542247071796</td>\n",
       "      <td>Mozilla/5.0 (Windows NT 6.1; WOW64; Trident/7.0; rv:11.0) like Gecko</td>\n",
       "      <td>9</td>\n",
       "    </tr>\n",
       "    <tr>\n",
       "      <th>4</th>\n",
       "      <td>None</td>\n",
       "      <td>Logged In</td>\n",
       "      <td>Austin</td>\n",
       "      <td>M</td>\n",
       "      <td>0</td>\n",
       "      <td>Rosales</td>\n",
       "      <td>NaN</td>\n",
       "      <td>free</td>\n",
       "      <td>New York-Newark-Jersey City, NY-NJ-PA</td>\n",
       "      <td>GET</td>\n",
       "      <td>Home</td>\n",
       "      <td>1.541060e+12</td>\n",
       "      <td>521</td>\n",
       "      <td>None</td>\n",
       "      <td>200</td>\n",
       "      <td>1542252577796</td>\n",
       "      <td>Mozilla/5.0 (Windows NT 6.1; rv:31.0) Gecko/20100101 Firefox/31.0</td>\n",
       "      <td>12</td>\n",
       "    </tr>\n",
       "  </tbody>\n",
       "</table>\n",
       "</div>"
      ],
      "text/plain": [
       "        artist       auth firstName gender  itemInSession lastName     length  \\\n",
       "0     Harmonia  Logged In      Ryan      M              0    Smith  655.77751   \n",
       "1  The Prodigy  Logged In      Ryan      M              1    Smith  260.07465   \n",
       "2        Train  Logged In      Ryan      M              2    Smith  205.45261   \n",
       "3         None  Logged In     Wyatt      M              0    Scott        NaN   \n",
       "4         None  Logged In    Austin      M              0  Rosales        NaN   \n",
       "\n",
       "  level                               location method      page  registration  \\\n",
       "0  free     San Jose-Sunnyvale-Santa Clara, CA    PUT  NextSong  1.541017e+12   \n",
       "1  free     San Jose-Sunnyvale-Santa Clara, CA    PUT  NextSong  1.541017e+12   \n",
       "2  free     San Jose-Sunnyvale-Santa Clara, CA    PUT  NextSong  1.541017e+12   \n",
       "3  free              Eureka-Arcata-Fortuna, CA    GET      Home  1.540872e+12   \n",
       "4  free  New York-Newark-Jersey City, NY-NJ-PA    GET      Home  1.541060e+12   \n",
       "\n",
       "   sessionId             song  status             ts  \\\n",
       "0        583    Sehr kosmisch     200  1542241826796   \n",
       "1        583  The Big Gundown     200  1542242481796   \n",
       "2        583         Marry Me     200  1542242741796   \n",
       "3        563             None     200  1542247071796   \n",
       "4        521             None     200  1542252577796   \n",
       "\n",
       "                                                                                                                                   userAgent  \\\n",
       "0  \"Mozilla/5.0 (X11; Linux x86_64) AppleWebKit/537.36 (KHTML, like Gecko) Ubuntu Chromium/36.0.1985.125 Chrome/36.0.1985.125 Safari/537.36\"   \n",
       "1  \"Mozilla/5.0 (X11; Linux x86_64) AppleWebKit/537.36 (KHTML, like Gecko) Ubuntu Chromium/36.0.1985.125 Chrome/36.0.1985.125 Safari/537.36\"   \n",
       "2  \"Mozilla/5.0 (X11; Linux x86_64) AppleWebKit/537.36 (KHTML, like Gecko) Ubuntu Chromium/36.0.1985.125 Chrome/36.0.1985.125 Safari/537.36\"   \n",
       "3                                                                       Mozilla/5.0 (Windows NT 6.1; WOW64; Trident/7.0; rv:11.0) like Gecko   \n",
       "4                                                                          Mozilla/5.0 (Windows NT 6.1; rv:31.0) Gecko/20100101 Firefox/31.0   \n",
       "\n",
       "  userId  \n",
       "0     26  \n",
       "1     26  \n",
       "2     26  \n",
       "3      9  \n",
       "4     12  "
      ]
     },
     "execution_count": 22,
     "metadata": {},
     "output_type": "execute_result"
    }
   ],
   "source": [
    "import pandas as pd\n",
    "\n",
    "# get filepath to log data file\n",
    "log_data = os.path.join(input_data,\"log_data/2018/11/*.json\")\n",
    "#log_data = os.path.join(input_data,\"log_data/*/*/*.json\")\n",
    "    \n",
    "# read log data file\n",
    "df = spark.read.json(log_data)\n",
    "\n",
    "pd.set_option('max_colwidth', 200)\n",
    "df.limit(5).toPandas()"
   ]
  },
  {
   "cell_type": "code",
   "execution_count": 23,
   "metadata": {},
   "outputs": [
    {
     "name": "stdout",
     "output_type": "stream",
     "text": [
      "+-------------+------+-----+---------+--------------------+--------------------+---------------+\n",
      "|           ts|userId|level|sessionId|            location|           userAgent|           song|\n",
      "+-------------+------+-----+---------+--------------------+--------------------+---------------+\n",
      "|1542241826796|    26| free|      583|San Jose-Sunnyval...|\"Mozilla/5.0 (X11...|  Sehr kosmisch|\n",
      "|1542242481796|    26| free|      583|San Jose-Sunnyval...|\"Mozilla/5.0 (X11...|The Big Gundown|\n",
      "|1542242741796|    26| free|      583|San Jose-Sunnyval...|\"Mozilla/5.0 (X11...|       Marry Me|\n",
      "|1542247071796|     9| free|      563|Eureka-Arcata-For...|Mozilla/5.0 (Wind...|           null|\n",
      "|1542252577796|    12| free|      521|New York-Newark-J...|Mozilla/5.0 (Wind...|           null|\n",
      "+-------------+------+-----+---------+--------------------+--------------------+---------------+\n",
      "\n",
      "+------+---------+--------+------+-----+\n",
      "|userId|firstName|lastName|gender|level|\n",
      "+------+---------+--------+------+-----+\n",
      "|    26|     Ryan|   Smith|     M| free|\n",
      "|    26|     Ryan|   Smith|     M| free|\n",
      "|    26|     Ryan|   Smith|     M| free|\n",
      "|     9|    Wyatt|   Scott|     M| free|\n",
      "|    12|   Austin| Rosales|     M| free|\n",
      "+------+---------+--------+------+-----+\n",
      "\n"
     ]
    }
   ],
   "source": [
    "output_data = \"\"\n",
    "\n",
    "# filter by actions for song plays  ## 'song_id', 'artist_id'\n",
    "song_plays_df = df['ts', 'userId', 'level','sessionId', 'location', 'userAgent', 'song']\n",
    "\n",
    "# extract columns for users table    \n",
    "users_table = df['userId', 'firstName', 'lastName', 'gender', 'level']\n",
    "    \n",
    "# write users table to parquet files\n",
    "users_table.write.parquet(os.path.join(output_data, 'users.parquet'), 'overwrite')\n",
    "\n",
    "song_plays_df.limit(5).show()\n",
    "users_table.limit(5).show()"
   ]
  },
  {
   "cell_type": "code",
   "execution_count": 9,
   "metadata": {},
   "outputs": [
    {
     "name": "stdout",
     "output_type": "stream",
     "text": [
      "+------+---------+--------+------+-----+\n",
      "|userId|firstName|lastName|gender|level|\n",
      "+------+---------+--------+------+-----+\n",
      "|    26|     Ryan|   Smith|     M| free|\n",
      "|    26|     Ryan|   Smith|     M| free|\n",
      "|    26|     Ryan|   Smith|     M| free|\n",
      "|     9|    Wyatt|   Scott|     M| free|\n",
      "|    12|   Austin| Rosales|     M| free|\n",
      "+------+---------+--------+------+-----+\n",
      "\n"
     ]
    }
   ],
   "source": [
    "pf3 = spark.read.parquet(\"users.parquet/*.parquet\")\n",
    "\n",
    "pf3.limit(5).show()"
   ]
  },
  {
   "cell_type": "code",
   "execution_count": 24,
   "metadata": {},
   "outputs": [
    {
     "data": {
      "text/html": [
       "<div>\n",
       "<style scoped>\n",
       "    .dataframe tbody tr th:only-of-type {\n",
       "        vertical-align: middle;\n",
       "    }\n",
       "\n",
       "    .dataframe tbody tr th {\n",
       "        vertical-align: top;\n",
       "    }\n",
       "\n",
       "    .dataframe thead th {\n",
       "        text-align: right;\n",
       "    }\n",
       "</style>\n",
       "<table border=\"1\" class=\"dataframe\">\n",
       "  <thead>\n",
       "    <tr style=\"text-align: right;\">\n",
       "      <th></th>\n",
       "      <th>start_time</th>\n",
       "      <th>hour</th>\n",
       "      <th>day</th>\n",
       "      <th>week</th>\n",
       "      <th>month</th>\n",
       "      <th>year</th>\n",
       "      <th>weekday</th>\n",
       "    </tr>\n",
       "  </thead>\n",
       "  <tbody>\n",
       "    <tr>\n",
       "      <th>0</th>\n",
       "      <td>1542241826796</td>\n",
       "      <td>0</td>\n",
       "      <td>15</td>\n",
       "      <td>46</td>\n",
       "      <td>11</td>\n",
       "      <td>2018</td>\n",
       "      <td>4</td>\n",
       "    </tr>\n",
       "    <tr>\n",
       "      <th>1</th>\n",
       "      <td>1542242481796</td>\n",
       "      <td>0</td>\n",
       "      <td>15</td>\n",
       "      <td>46</td>\n",
       "      <td>11</td>\n",
       "      <td>2018</td>\n",
       "      <td>4</td>\n",
       "    </tr>\n",
       "    <tr>\n",
       "      <th>2</th>\n",
       "      <td>1542242741796</td>\n",
       "      <td>0</td>\n",
       "      <td>15</td>\n",
       "      <td>46</td>\n",
       "      <td>11</td>\n",
       "      <td>2018</td>\n",
       "      <td>4</td>\n",
       "    </tr>\n",
       "    <tr>\n",
       "      <th>3</th>\n",
       "      <td>1542247071796</td>\n",
       "      <td>1</td>\n",
       "      <td>15</td>\n",
       "      <td>46</td>\n",
       "      <td>11</td>\n",
       "      <td>2018</td>\n",
       "      <td>4</td>\n",
       "    </tr>\n",
       "    <tr>\n",
       "      <th>4</th>\n",
       "      <td>1542252577796</td>\n",
       "      <td>3</td>\n",
       "      <td>15</td>\n",
       "      <td>46</td>\n",
       "      <td>11</td>\n",
       "      <td>2018</td>\n",
       "      <td>4</td>\n",
       "    </tr>\n",
       "  </tbody>\n",
       "</table>\n",
       "</div>"
      ],
      "text/plain": [
       "      start_time  hour  day  week  month  year weekday\n",
       "0  1542241826796     0   15    46     11  2018       4\n",
       "1  1542242481796     0   15    46     11  2018       4\n",
       "2  1542242741796     0   15    46     11  2018       4\n",
       "3  1542247071796     1   15    46     11  2018       4\n",
       "4  1542252577796     3   15    46     11  2018       4"
      ]
     },
     "execution_count": 24,
     "metadata": {},
     "output_type": "execute_result"
    }
   ],
   "source": [
    "from datetime import datetime\n",
    "from pyspark.sql.functions import udf\n",
    "import  pyspark.sql.functions as F\n",
    "from pyspark.sql import types as T\n",
    "\n",
    "get_timestamp = F.udf(lambda x: datetime.fromtimestamp( (x/1000.0) ), T.TimestampType()) \n",
    "df = df.withColumn('datetime', get_timestamp(df.ts))\n",
    "    \n",
    "    # extract columns to create time table\n",
    "    #time_table  = df['start_time', 'hour', 'day', 'week', 'month', 'year', 'weekday']\n",
    "time_table = df.select([df.ts.alias('start_time'),\n",
    "                            F.hour(df.datetime).alias('hour'),\n",
    "                            F.dayofmonth(df.datetime).alias('day'),\n",
    "                            F.weekofyear(df.datetime).alias('week'),\n",
    "                            F.month(df.datetime).alias('month'),\n",
    "                            F.year(df.datetime).alias('year'),\n",
    "                            F.date_format(df.datetime, 'u').alias('weekday')])\n",
    "\n",
    "time_table.limit(5).toPandas()"
   ]
  },
  {
   "cell_type": "code",
   "execution_count": 25,
   "metadata": {},
   "outputs": [],
   "source": [
    "time_table.write.partitionBy('year', 'month').parquet(os.path.join(output_data, 'time.parquet'), 'overwrite')\n",
    "\n",
    "# read in song data to use for songplays table\n",
    "song_df = spark.read.parquet(\"songs.parquet\")"
   ]
  },
  {
   "cell_type": "code",
   "execution_count": 26,
   "metadata": {},
   "outputs": [
    {
     "name": "stdout",
     "output_type": "stream",
     "text": [
      "+------------------+------+--------+----+------------------+\n",
      "|           song_id| title|duration|year|         artist_id|\n",
      "+------------------+------+--------+----+------------------+\n",
      "|SOBLFFE12AF72AA5BA|Scream|213.9424|2009|ARJNIUY12298900C91|\n",
      "+------------------+------+--------+----+------------------+\n",
      "\n",
      "+-------------+------+-----+---------+--------------------+--------------------+---------------+\n",
      "|           ts|userId|level|sessionId|            location|           userAgent|           song|\n",
      "+-------------+------+-----+---------+--------------------+--------------------+---------------+\n",
      "|1542241826796|    26| free|      583|San Jose-Sunnyval...|\"Mozilla/5.0 (X11...|  Sehr kosmisch|\n",
      "|1542242481796|    26| free|      583|San Jose-Sunnyval...|\"Mozilla/5.0 (X11...|The Big Gundown|\n",
      "|1542242741796|    26| free|      583|San Jose-Sunnyval...|\"Mozilla/5.0 (X11...|       Marry Me|\n",
      "|1542247071796|     9| free|      563|Eureka-Arcata-For...|Mozilla/5.0 (Wind...|           null|\n",
      "|1542252577796|    12| free|      521|New York-Newark-J...|Mozilla/5.0 (Wind...|           null|\n",
      "+-------------+------+-----+---------+--------------------+--------------------+---------------+\n",
      "\n"
     ]
    }
   ],
   "source": [
    "song_df.limit(5).show()\n",
    "song_plays_df.limit(5).show()"
   ]
  },
  {
   "cell_type": "code",
   "execution_count": 27,
   "metadata": {},
   "outputs": [
    {
     "data": {
      "text/plain": [
       "Row(ts=1542298745796, userId='97', level='paid', sessionId=605, location='Lansing-East Lansing, MI', userAgent='\"Mozilla/5.0 (X11; Linux x86_64) AppleWebKit/537.36 (KHTML, like Gecko) Chrome/37.0.2062.94 Safari/537.36\"', song='Scream', song_id='SOBLFFE12AF72AA5BA', title='Scream', duration=213.9424, year=2009, artist_id='ARJNIUY12298900C91')"
      ]
     },
     "execution_count": 27,
     "metadata": {},
     "output_type": "execute_result"
    }
   ],
   "source": [
    "# extract columns from joined song and log datasets to create songplays table \n",
    "df = song_plays_df.join(song_df, song_df.title == song_plays_df.song)\n",
    "\n",
    "df.head()"
   ]
  },
  {
   "cell_type": "code",
   "execution_count": 41,
   "metadata": {},
   "outputs": [
    {
     "name": "stdout",
     "output_type": "stream",
     "text": [
      "+-------------+------+-----+------------------+------------------+---------+--------------------+--------------------+\n",
      "|   start_time|userId|level|           song_id|         artist_id|sessionId|            location|           userAgent|\n",
      "+-------------+------+-----+------------------+------------------+---------+--------------------+--------------------+\n",
      "|1542298745796|    97| paid|SOBLFFE12AF72AA5BA|ARJNIUY12298900C91|      605|Lansing-East Lans...|\"Mozilla/5.0 (X11...|\n",
      "+-------------+------+-----+------------------+------------------+---------+--------------------+--------------------+\n",
      "\n"
     ]
    }
   ],
   "source": [
    "from pyspark.sql.functions import monotonically_increasing_id\n",
    "songplays_table = df.select([df.ts.alias('start_time'), 'userId', 'level', 'song_id', 'artist_id', 'sessionId', 'location', 'userAgent'])\n",
    "songplays_table.select(monotonically_increasing_id().alias('songplay_id')).collect()\n",
    "songplays_table.show()\n",
    "# write songplays table to parquet files partitioned by year and month\n",
    "songplays_table.write.parquet(os.path.join(output_data, 'songplays.parquet'), 'overwrite')"
   ]
  },
  {
   "cell_type": "code",
   "execution_count": 42,
   "metadata": {},
   "outputs": [
    {
     "name": "stdout",
     "output_type": "stream",
     "text": [
      "+-------------+------+-----+------------------+------------------+---------+--------------------+--------------------+\n",
      "|   start_time|userId|level|           song_id|         artist_id|sessionId|            location|           userAgent|\n",
      "+-------------+------+-----+------------------+------------------+---------+--------------------+--------------------+\n",
      "|1542298745796|    97| paid|SOBLFFE12AF72AA5BA|ARJNIUY12298900C91|      605|Lansing-East Lans...|\"Mozilla/5.0 (X11...|\n",
      "+-------------+------+-----+------------------+------------------+---------+--------------------+--------------------+\n",
      "\n"
     ]
    }
   ],
   "source": [
    "pf5 = spark.read.parquet(\"songplays.parquet/*.parquet\")\n",
    "\n",
    "pf5.limit(5).show()"
   ]
  },
  {
   "cell_type": "code",
   "execution_count": null,
   "metadata": {},
   "outputs": [],
   "source": []
  }
 ],
 "metadata": {
  "kernelspec": {
   "display_name": "Python 3",
   "language": "python",
   "name": "python3"
  },
  "language_info": {
   "codemirror_mode": {
    "name": "ipython",
    "version": 3
   },
   "file_extension": ".py",
   "mimetype": "text/x-python",
   "name": "python",
   "nbconvert_exporter": "python",
   "pygments_lexer": "ipython3",
   "version": "3.6.3"
  }
 },
 "nbformat": 4,
 "nbformat_minor": 2
}
